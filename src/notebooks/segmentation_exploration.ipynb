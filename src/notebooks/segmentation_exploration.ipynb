{
 "cells": [
  {
   "cell_type": "code",
   "execution_count": null,
   "outputs": [],
   "source": [
    "import sys\n",
    "sys.path.append(\"../SkewNet\")"
   ],
   "metadata": {
    "collapsed": false
   },
   "id": "3cd3ba072e9bc8f9"
  },
  {
   "cell_type": "code",
   "execution_count": 2,
   "outputs": [],
   "source": [
    "from src.SkewNet.utils import coco_utils"
   ],
   "metadata": {
    "collapsed": false,
    "ExecuteTime": {
     "end_time": "2023-09-19T01:04:09.734167300Z",
     "start_time": "2023-09-19T01:04:09.554526100Z"
    }
   },
   "id": "b8297cd758f62252"
  },
  {
   "cell_type": "code",
   "execution_count": 3,
   "outputs": [],
   "source": [
    "mask_path = \"/scratch/gpfs/RUSTOW/deskewing_datasets/images/cudl_images/document_masks/images_01/MS-AA-00003-00008-000-00001.json\""
   ],
   "metadata": {
    "collapsed": false,
    "ExecuteTime": {
     "end_time": "2023-09-19T01:10:36.931181800Z",
     "start_time": "2023-09-19T01:10:36.912067Z"
    }
   },
   "id": "11ada7ab345e096e"
  },
  {
   "cell_type": "code",
   "execution_count": null,
   "outputs": [],
   "source": [
    "rle = coco_utils.load_rle_from_file(mask_path)\n",
    "print(rle)"
   ],
   "metadata": {
    "collapsed": false
   },
   "id": "49b605294553c9af"
  }
 ],
 "metadata": {
  "kernelspec": {
   "name": "python3",
   "language": "python",
   "display_name": "Python 3 (ipykernel)"
  }
 },
 "nbformat": 4,
 "nbformat_minor": 5
}

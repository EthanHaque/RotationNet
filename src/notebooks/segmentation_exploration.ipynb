{
 "cells": [
  {
   "cell_type": "code",
   "execution_count": null,
   "id": "e61c4fd0-1e70-4647-9445-c5cdeb60cf61",
   "metadata": {},
   "outputs": [],
   "source": [
    "import sys\n",
    "sys.path.append(\"../SkewNet\")"
   ]
  },
  {
   "cell_type": "code",
   "execution_count": null,
   "id": "5fad6b12-dd60-46d3-97fe-cf8e7a17fce3",
   "metadata": {},
   "outputs": [],
   "source": [
    "from utils import coco_utils\n",
    "from pycocotools import mask as mask_utils\n",
    "import glob\n",
    "import os\n",
    "import random\n",
    "import numpy as np\n",
    "from PIL import Image\n",
    "import matplotlib.pyplot as plt"
   ]
  },
  {
   "cell_type": "code",
   "execution_count": null,
   "id": "6e942176-716c-4ed3-a1f5-f2c906944bc2",
   "metadata": {},
   "outputs": [],
   "source": [
    "def apply_mask_and_crop(image, mask):\n",
    "    if image.shape[:2] != mask.shape:\n",
    "        raise ValueError(\"Image and mask dimensions do not match\")\n",
    "\n",
    "    h, w, _ = image.shape\n",
    "    output = np.zeros((h, w, 4), dtype=np.uint8)  # 4 channels, the last one is alpha\n",
    "    output[:, :, :3] = image                      \n",
    "    output[:, :, 3] = mask * 255                  \n",
    "\n",
    "    rows = np.any(mask, axis=1)\n",
    "    cols = np.any(mask, axis=0)\n",
    "    rmin, rmax = np.where(rows)[0][[0, -1]]\n",
    "    cmin, cmax = np.where(cols)[0][[0, -1]]\n",
    "    \n",
    "    cropped_output = output[rmin:rmax+1, cmin:cmax+1, :]\n",
    "    return cropped_output"
   ]
  },
  {
   "cell_type": "code",
   "execution_count": null,
   "id": "8fe86d07-fe34-45c1-b520-db36c62af1be",
   "metadata": {},
   "outputs": [],
   "source": [
    "def find_image_mask_pairs(images_root, masks_root):\n",
    "    mask_paths = glob.glob(os.path.join(masks_root, \"**\", \"*.json\"), recursive=True)\n",
    "    \n",
    "    pairs = []\n",
    "    for mask_path in mask_paths:\n",
    "        relative_path = os.path.relpath(mask_path, masks_root)\n",
    "        base, _ = os.path.splitext(relative_path)\n",
    "        image_path = os.path.join(images_root, base + \".jpg\")\n",
    "\n",
    "        if os.path.exists(image_path):\n",
    "            pairs.append((image_path, mask_path))\n",
    "\n",
    "    return pairs"
   ]
  },
  {
   "cell_type": "code",
   "execution_count": null,
   "id": "3d9a3f3d-5d7c-44ea-875e-a928e6e6dfe3",
   "metadata": {},
   "outputs": [],
   "source": [
    "def save_masked_image(image_path, mask_path, output_directory):\n",
    "    # Find the directory structure of the original image and recreate it under the output directory\n",
    "    relative_path = os.path.relpath(image_path, images_root)\n",
    "    folder_structure = os.path.dirname(relative_path)\n",
    "    final_output_directory = os.path.join(output_directory, folder_structure)\n",
    "\n",
    "    os.makedirs(final_output_directory, exist_ok=True)\n",
    "    image = Image.open(image_path)\n",
    "    image = np.asarray(image)\n",
    "    rle = coco_utils.load_rle_from_file(mask_path)\n",
    "    mask = mask_utils.decode(rle)\n",
    "    masked_image = apply_mask_and_crop(image, mask)\n",
    "    masked_image_pil = Image.fromarray(masked_image)\n",
    "    base_name = os.path.basename(image_path)\n",
    "    name_without_extension, _ = os.path.splitext(base_name)\n",
    "    output_path = os.path.join(final_output_directory, f\"{name_without_extension}.png\")\n",
    "    masked_image_pil.save(output_path)"
   ]
  },
  {
   "cell_type": "code",
   "execution_count": null,
   "id": "cfd1854a-d4ff-41ee-b0df-8a1a02db9c85",
   "metadata": {},
   "outputs": [],
   "source": [
    "images_root = \"/scratch/gpfs/RUSTOW/deskewing_datasets/images/cudl_images/images\"\n",
    "masks_root = \"/scratch/gpfs/RUSTOW/deskewing_datasets/images/cudl_images/document_masks\"\n",
    "output_directory = \"/scratch/gpfs/RUSTOW/deskewing_datasets/images/cudl_images/segmented_images\""
   ]
  },
  {
   "cell_type": "code",
   "execution_count": null,
   "id": "0d4f4377-066b-4e7e-b5ef-1b0d50b15c9e",
   "metadata": {},
   "outputs": [],
   "source": [
    "pairs = find_image_mask_pairs(images_root, masks_root)\n",
    "for image_path, mask_path in pairs:\n",
    "    save_masked_image(image_path, mask_path, output_directory)"
   ]
  }
 ],
 "metadata": {
  "kernelspec": {
   "display_name": "Python 3 (ipykernel)",
   "language": "python",
   "name": "python3"
  },
  "language_info": {
   "codemirror_mode": {
    "name": "ipython",
    "version": 3
   },
   "file_extension": ".py",
   "mimetype": "text/x-python",
   "name": "python",
   "nbconvert_exporter": "python",
   "pygments_lexer": "ipython3",
   "version": "3.11.5"
  }
 },
 "nbformat": 4,
 "nbformat_minor": 5
}

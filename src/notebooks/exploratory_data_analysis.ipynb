{
 "cells": [
  {
   "cell_type": "code",
   "execution_count": 8,
   "id": "initial_id",
   "metadata": {
    "ExecuteTime": {
     "end_time": "2023-09-26T11:19:53.364538200Z",
     "start_time": "2023-09-26T11:19:52.646402700Z"
    },
    "tags": []
   },
   "outputs": [],
   "source": [
    "import cv2\n",
    "import os\n",
    "import matplotlib.pyplot as plt\n",
    "import numpy as np\n",
    "import glob"
   ]
  },
  {
   "cell_type": "code",
   "execution_count": 9,
   "id": "7734b68719ce7312",
   "metadata": {
    "collapsed": false
   },
   "outputs": [],
   "source": [
    "background_datasets = [\"/scratch/gpfs/RUSTOW/deskewing_datasets/images/texture_ninja\", \n",
    "                       \"/scratch/gpfs/RUSTOW/deskewing_datasets/images/pexels_textures\",\n",
    "                       \"/scratch/gpfs/RUSTOW/deskewing_datasets/images/open_images_v7_validation\"]\n",
    "document_datasets = [\"/scratch/gpfs/RUSTOW/deskewing_datasets/images/cudl_images/images\",\n",
    "                     \"/scratch/gpfs/RUSTOW/deskewing_datasets/images/doc_lay_net\",\n",
    "                     \"/scratch/gpfs/RUSTOW/deskewing_datasets/images/publaynet\"]"
   ]
  },
  {
   "cell_type": "code",
   "execution_count": null,
   "outputs": [],
   "source": [
    "background_images_paths = {}\n",
    "for dataset_path in background_datasets:\n",
    "    background_images_paths[dataset_path] = glob.glob(os.path.join(dataset_path, \"**\", \"*.*\"), recursive=True)\n",
    "    \n",
    "document_images_paths = {}\n",
    "for dataset_path in document_datasets:\n",
    "    document_images_paths[dataset_path] = glob.glob(os.path.join(dataset_path, \"**\", \"*.*\"), recursive=True)"
   ],
   "metadata": {
    "collapsed": false
   },
   "id": "28d3e90c35e4f3db"
  },
  {
   "cell_type": "code",
   "execution_count": 10,
   "id": "ecc4ea5b-8812-4a38-9e70-c81bddc99fa3",
   "metadata": {},
   "outputs": [],
   "source": [
    "def get_basic_stats(dataset_paths):\n",
    "    widths, heights = [], []\n",
    "    for path in dataset_paths:\n",
    "        for image_name in os.listdir(path):\n",
    "            img_path = os.path.join(path, image_name)\n",
    "            img = cv2.imread(img_path)\n",
    "            heights.append(img.shape[0])\n",
    "            widths.append(img.shape[1])\n",
    "\n",
    "    return widths, heights"
   ]
  },
  {
   "cell_type": "code",
   "execution_count": 11,
   "id": "bcf33fdf-c012-489b-8fd3-b89297942d33",
   "metadata": {},
   "outputs": [],
   "source": [
    "def get_avg_brightness(img):\n",
    "    gray = cv2.cvtColor(img, cv2.COLOR_BGR2GRAY)\n",
    "    return np.mean(gray)"
   ]
  },
  {
   "cell_type": "code",
   "execution_count": 12,
   "id": "0dbf5748-a0fe-4421-8741-08443420d15b",
   "metadata": {},
   "outputs": [],
   "source": [
    "def get_avg_color(img):\n",
    "    avg_color_per_row = np.average(img, axis=0)\n",
    "    avg_color = np.average(avg_color_per_row, axis=0)\n",
    "    return avg_color  # BGR format\n"
   ]
  },
  {
   "cell_type": "code",
   "execution_count": 13,
   "id": "aee2bb2b-6846-4eae-ba56-032225f24902",
   "metadata": {},
   "outputs": [],
   "source": [
    "def display_random_images(dataset_path, n=5):\n",
    "    image_files = os.listdir(dataset_path)\n",
    "    sampled_files = np.random.choice(image_files, n)\n",
    "    \n",
    "    plt.figure(figsize=(15, 10))\n",
    "    for idx, file in enumerate(sampled_files):\n",
    "        img_path = os.path.join(dataset_path, file)\n",
    "        img = cv2.imread(img_path)\n",
    "        img = cv2.cvtColor(img, cv2.COLOR_BGR2RGB)\n",
    "        plt.subplot(1, n, idx + 1)\n",
    "        plt.imshow(img)\n",
    "        plt.axis('off')\n",
    "    plt.show()"
   ]
  },
  {
   "cell_type": "code",
   "execution_count": 14,
   "id": "95420403-293d-4c6b-b61d-0798a29beb3d",
   "metadata": {},
   "outputs": [
    {
     "name": "stderr",
     "output_type": "stream",
     "text": [
      "libpng warning: iCCP: profile 'Photoshop ICC profile': 0h: PCS illuminant is not D50\n",
      "libpng warning: iCCP: profile 'Photoshop ICC profile': 0h: PCS illuminant is not D50\n",
      "libpng warning: iCCP: profile 'Photoshop ICC profile': 0h: PCS illuminant is not D50\n",
      "libpng warning: iCCP: profile 'Photoshop ICC profile': 0h: PCS illuminant is not D50\n"
     ]
    },
    {
     "ename": "KeyboardInterrupt",
     "evalue": "",
     "output_type": "error",
     "traceback": [
      "\u001B[0;31m---------------------------------------------------------------------------\u001B[0m",
      "\u001B[0;31mKeyboardInterrupt\u001B[0m                         Traceback (most recent call last)",
      "Cell \u001B[0;32mIn[14], line 1\u001B[0m\n\u001B[0;32m----> 1\u001B[0m background_widths, background_heights \u001B[38;5;241m=\u001B[39m \u001B[43mget_basic_stats\u001B[49m\u001B[43m(\u001B[49m\u001B[43mbackground_datasets\u001B[49m\u001B[43m)\u001B[49m\n\u001B[1;32m      2\u001B[0m document_widths, document_heights \u001B[38;5;241m=\u001B[39m get_basic_stats(document_datasets)\n",
      "Cell \u001B[0;32mIn[10], line 6\u001B[0m, in \u001B[0;36mget_basic_stats\u001B[0;34m(dataset_paths)\u001B[0m\n\u001B[1;32m      4\u001B[0m \u001B[38;5;28;01mfor\u001B[39;00m image_name \u001B[38;5;129;01min\u001B[39;00m os\u001B[38;5;241m.\u001B[39mlistdir(path):\n\u001B[1;32m      5\u001B[0m     img_path \u001B[38;5;241m=\u001B[39m os\u001B[38;5;241m.\u001B[39mpath\u001B[38;5;241m.\u001B[39mjoin(path, image_name)\n\u001B[0;32m----> 6\u001B[0m     img \u001B[38;5;241m=\u001B[39m \u001B[43mcv2\u001B[49m\u001B[38;5;241;43m.\u001B[39;49m\u001B[43mimread\u001B[49m\u001B[43m(\u001B[49m\u001B[43mimg_path\u001B[49m\u001B[43m)\u001B[49m\n\u001B[1;32m      7\u001B[0m     heights\u001B[38;5;241m.\u001B[39mappend(img\u001B[38;5;241m.\u001B[39mshape[\u001B[38;5;241m0\u001B[39m])\n\u001B[1;32m      8\u001B[0m     widths\u001B[38;5;241m.\u001B[39mappend(img\u001B[38;5;241m.\u001B[39mshape[\u001B[38;5;241m1\u001B[39m])\n",
      "\u001B[0;31mKeyboardInterrupt\u001B[0m: "
     ]
    }
   ],
   "source": [
    "background_widths, background_heights = get_basic_stats(background_datasets)\n",
    "document_widths, document_heights = get_basic_stats(document_datasets)"
   ]
  },
  {
   "cell_type": "code",
   "execution_count": null,
   "id": "84c985b1-f24c-43c2-b3c7-8bf8fd44cb48",
   "metadata": {},
   "outputs": [],
   "source": [
    "plt.figure(figsize=(10, 5))\n",
    "plt.hist(background_widths, bins=50, alpha=0.5, label='Backgrounds Widths')\n",
    "plt.hist(document_widths, bins=50, alpha=0.5, label='Documents Widths')\n",
    "plt.legend(loc='upper right')\n",
    "plt.title('Width Distribution')\n",
    "plt.show()"
   ]
  },
  {
   "cell_type": "code",
   "execution_count": null,
   "id": "213f47f3-a89e-48ba-99c0-5957d2da9bcd",
   "metadata": {},
   "outputs": [],
   "source": [
    "plt.figure(figsize=(10, 5))\n",
    "plt.hist(background_heights, bins=50, alpha=0.5, label='Backgrounds Heights')\n",
    "plt.hist(document_heights, bins=50, alpha=0.5, label='Documents Heights')\n",
    "plt.legend(loc='upper right')\n",
    "plt.title('Height Distribution')\n",
    "plt.show()"
   ]
  },
  {
   "cell_type": "code",
   "execution_count": 15,
   "id": "24f0ceeb-fb1c-46c8-84ae-445aa1cd6927",
   "metadata": {},
   "outputs": [
    {
     "ename": "TypeError",
     "evalue": "Can't mix strings and bytes in path components",
     "output_type": "error",
     "traceback": [
      "\u001B[0;31m---------------------------------------------------------------------------\u001B[0m",
      "\u001B[0;31mTypeError\u001B[0m                                 Traceback (most recent call last)",
      "Cell \u001B[0;32mIn[15], line 1\u001B[0m\n\u001B[0;32m----> 1\u001B[0m \u001B[43mdisplay_random_images\u001B[49m\u001B[43m(\u001B[49m\u001B[43mnp\u001B[49m\u001B[38;5;241;43m.\u001B[39;49m\u001B[43mrandom\u001B[49m\u001B[38;5;241;43m.\u001B[39;49m\u001B[43mchoice\u001B[49m\u001B[43m(\u001B[49m\u001B[43mbackground_datasets\u001B[49m\u001B[43m)\u001B[49m\u001B[43m)\u001B[49m\n\u001B[1;32m      2\u001B[0m display_random_images(np\u001B[38;5;241m.\u001B[39mrandom\u001B[38;5;241m.\u001B[39mchoice(document_datasets))\n",
      "Cell \u001B[0;32mIn[13], line 7\u001B[0m, in \u001B[0;36mdisplay_random_images\u001B[0;34m(dataset_path, n)\u001B[0m\n\u001B[1;32m      5\u001B[0m plt\u001B[38;5;241m.\u001B[39mfigure(figsize\u001B[38;5;241m=\u001B[39m(\u001B[38;5;241m15\u001B[39m, \u001B[38;5;241m10\u001B[39m))\n\u001B[1;32m      6\u001B[0m \u001B[38;5;28;01mfor\u001B[39;00m idx, file \u001B[38;5;129;01min\u001B[39;00m \u001B[38;5;28menumerate\u001B[39m(sampled_files):\n\u001B[0;32m----> 7\u001B[0m     img_path \u001B[38;5;241m=\u001B[39m \u001B[43mos\u001B[49m\u001B[38;5;241;43m.\u001B[39;49m\u001B[43mpath\u001B[49m\u001B[38;5;241;43m.\u001B[39;49m\u001B[43mjoin\u001B[49m\u001B[43m(\u001B[49m\u001B[43mdataset_path\u001B[49m\u001B[43m,\u001B[49m\u001B[43m \u001B[49m\u001B[43mfile\u001B[49m\u001B[43m)\u001B[49m\n\u001B[1;32m      8\u001B[0m     img \u001B[38;5;241m=\u001B[39m cv2\u001B[38;5;241m.\u001B[39mimread(img_path)\n\u001B[1;32m      9\u001B[0m     img \u001B[38;5;241m=\u001B[39m cv2\u001B[38;5;241m.\u001B[39mcvtColor(img, cv2\u001B[38;5;241m.\u001B[39mCOLOR_BGR2RGB)\n",
      "File \u001B[0;32m~/.conda/envs/torch_env/lib/python3.9/posixpath.py:90\u001B[0m, in \u001B[0;36mjoin\u001B[0;34m(a, *p)\u001B[0m\n\u001B[1;32m     88\u001B[0m             path \u001B[38;5;241m+\u001B[39m\u001B[38;5;241m=\u001B[39m sep \u001B[38;5;241m+\u001B[39m b\n\u001B[1;32m     89\u001B[0m \u001B[38;5;28;01mexcept\u001B[39;00m (\u001B[38;5;167;01mTypeError\u001B[39;00m, \u001B[38;5;167;01mAttributeError\u001B[39;00m, \u001B[38;5;167;01mBytesWarning\u001B[39;00m):\n\u001B[0;32m---> 90\u001B[0m     \u001B[43mgenericpath\u001B[49m\u001B[38;5;241;43m.\u001B[39;49m\u001B[43m_check_arg_types\u001B[49m\u001B[43m(\u001B[49m\u001B[38;5;124;43m'\u001B[39;49m\u001B[38;5;124;43mjoin\u001B[39;49m\u001B[38;5;124;43m'\u001B[39;49m\u001B[43m,\u001B[49m\u001B[43m \u001B[49m\u001B[43ma\u001B[49m\u001B[43m,\u001B[49m\u001B[43m \u001B[49m\u001B[38;5;241;43m*\u001B[39;49m\u001B[43mp\u001B[49m\u001B[43m)\u001B[49m\n\u001B[1;32m     91\u001B[0m     \u001B[38;5;28;01mraise\u001B[39;00m\n\u001B[1;32m     92\u001B[0m \u001B[38;5;28;01mreturn\u001B[39;00m path\n",
      "File \u001B[0;32m~/.conda/envs/torch_env/lib/python3.9/genericpath.py:155\u001B[0m, in \u001B[0;36m_check_arg_types\u001B[0;34m(funcname, *args)\u001B[0m\n\u001B[1;32m    152\u001B[0m         \u001B[38;5;28;01mraise\u001B[39;00m \u001B[38;5;167;01mTypeError\u001B[39;00m(\u001B[38;5;124mf\u001B[39m\u001B[38;5;124m'\u001B[39m\u001B[38;5;132;01m{\u001B[39;00mfuncname\u001B[38;5;132;01m}\u001B[39;00m\u001B[38;5;124m() argument must be str, bytes, or \u001B[39m\u001B[38;5;124m'\u001B[39m\n\u001B[1;32m    153\u001B[0m                         \u001B[38;5;124mf\u001B[39m\u001B[38;5;124m'\u001B[39m\u001B[38;5;124mos.PathLike object, not \u001B[39m\u001B[38;5;132;01m{\u001B[39;00ms\u001B[38;5;241m.\u001B[39m\u001B[38;5;18m__class__\u001B[39m\u001B[38;5;241m.\u001B[39m\u001B[38;5;18m__name__\u001B[39m\u001B[38;5;132;01m!r}\u001B[39;00m\u001B[38;5;124m'\u001B[39m) \u001B[38;5;28;01mfrom\u001B[39;00m \u001B[38;5;28;01mNone\u001B[39;00m\n\u001B[1;32m    154\u001B[0m \u001B[38;5;28;01mif\u001B[39;00m hasstr \u001B[38;5;129;01mand\u001B[39;00m hasbytes:\n\u001B[0;32m--> 155\u001B[0m     \u001B[38;5;28;01mraise\u001B[39;00m \u001B[38;5;167;01mTypeError\u001B[39;00m(\u001B[38;5;124m\"\u001B[39m\u001B[38;5;124mCan\u001B[39m\u001B[38;5;124m'\u001B[39m\u001B[38;5;124mt mix strings and bytes in path components\u001B[39m\u001B[38;5;124m\"\u001B[39m) \u001B[38;5;28;01mfrom\u001B[39;00m \u001B[38;5;28;01mNone\u001B[39;00m\n",
      "\u001B[0;31mTypeError\u001B[0m: Can't mix strings and bytes in path components"
     ]
    },
    {
     "data": {
      "text/plain": [
       "<Figure size 1500x1000 with 0 Axes>"
      ]
     },
     "metadata": {},
     "output_type": "display_data"
    }
   ],
   "source": [
    "display_random_images(np.random.choice(background_datasets))\n",
    "display_random_images(np.random.choice(document_datasets))"
   ]
  }
 ],
 "metadata": {
  "kernelspec": {
   "display_name": "torch_env [~/.conda/envs/torch_env/]",
   "language": "python",
   "name": "conda_torch_env"
  },
  "language_info": {
   "codemirror_mode": {
    "name": "ipython",
    "version": 3
   },
   "file_extension": ".py",
   "mimetype": "text/x-python",
   "name": "python",
   "nbconvert_exporter": "python",
   "pygments_lexer": "ipython3",
   "version": "3.9.16"
  }
 },
 "nbformat": 4,
 "nbformat_minor": 5
}

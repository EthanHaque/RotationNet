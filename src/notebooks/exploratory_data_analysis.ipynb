{
 "cells": [
  {
   "cell_type": "code",
   "execution_count": 1,
   "id": "initial_id",
   "metadata": {
    "collapsed": true,
    "ExecuteTime": {
     "end_time": "2023-09-26T11:19:53.364538200Z",
     "start_time": "2023-09-26T11:19:52.646402700Z"
    }
   },
   "outputs": [],
   "source": [
    "import cv2\n",
    "import os\n",
    "import matplotlib.pyplot as plt\n",
    "import numpy as np\n"
   ]
  },
  {
   "cell_type": "code",
   "execution_count": null,
   "outputs": [],
   "source": [
    "background_datasets = [\"/scratch/gpfs/RUSTOW/deskewing_datasets/images/texture_ninja\", \n",
    "                       \"/scratch/gpfs/RUSTOW/deskewing_datasets/images/pexels_textures\",\n",
    "                       \"/scratch/gpfs/RUSTOW/deskewing_datasets/images/open_images_v7_validation\"]\n",
    "document_datasets = [\"/scratch/gpfs/RUSTOW/deskewing_datasets/images/cudl_images/images\",\n",
    "                     \"/scratch/gpfs/RUSTOW/deskewing_datasets/images/doc_lay_net\",]\n",
    "                     \"/scratch/gpfs/RUSTOW/deskewing_datasets/images/publaynet\"]"
   ],
   "metadata": {
    "collapsed": false
   },
   "id": "7734b68719ce7312"
  }
 ],
 "metadata": {
  "kernelspec": {
   "display_name": "Python 3",
   "language": "python",
   "name": "python3"
  },
  "language_info": {
   "codemirror_mode": {
    "name": "ipython",
    "version": 2
   },
   "file_extension": ".py",
   "mimetype": "text/x-python",
   "name": "python",
   "nbconvert_exporter": "python",
   "pygments_lexer": "ipython2",
   "version": "2.7.6"
  }
 },
 "nbformat": 4,
 "nbformat_minor": 5
}

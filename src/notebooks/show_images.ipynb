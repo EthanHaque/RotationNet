{
 "cells": [
  {
   "cell_type": "code",
   "execution_count": null,
   "id": "51638a87-d973-4a55-a7ae-fe7539ac9a6d",
   "metadata": {},
   "outputs": [],
   "source": [
    "from SkewNet.model.rotated_images_dataset import RotatedImageDataset\n",
    "\n",
    "import torch\n",
    "from torch.utils.data import Dataset, DataLoader\n",
    "import matplotlib.pyplot as plt\n",
    "from torchvision import transforms\n",
    "\n",
    "import torchvision.transforms.functional as TF\n",
    "import numpy as np\n",
    "\n",
    "import math"
   ]
  },
  {
   "cell_type": "code",
   "execution_count": null,
   "id": "287f7450-13a1-4d81-8a09-3e53cbb4827e",
   "metadata": {},
   "outputs": [],
   "source": [
    "# Create an instance of the dataset\n",
    "# Make sure to replace these paths with the actual paths to your files\n",
    "img_dir = \"/scratch/gpfs/RUSTOW/deskewing_datasets/images/synthetic_data\"\n",
    "annotations_file = \"/scratch/gpfs/RUSTOW/deskewing_datasets/synthetic_image_angles.csv\"\n",
    "\n",
    "image_transform = transforms.Compose([\n",
    "            transforms.Resize((1200, 900), antialias=False),\n",
    "            transforms.ColorJitter(brightness=0.2, contrast=0.2, saturation=0.2, hue=0.2),\n",
    "        ])\n",
    "\n",
    "# Create dataset instance\n",
    "dataset = RotatedImageDataset(annotations_file, img_dir, subset=\"train\", transform=image_transform)\n",
    "\n",
    "# Create a DataLoader\n",
    "data_loader = DataLoader(dataset, batch_size=1, shuffle=True)\n",
    "\n",
    "# Function to visualize images\n",
    "def show_images(images, labels):\n",
    "    fig, axs = plt.subplots(1, len(images), figsize=(15,10))\n",
    "    for i, (img, label) in enumerate(zip(images, labels)):\n",
    "        # Convert the label from radians to degrees and rotate the image\n",
    "        rads = -label.item() \n",
    "        angle = rads * (180/np.pi)\n",
    "        img = TF.to_pil_image(img)  # Convert the tensor to PIL Image to apply rotation\n",
    "        img = TF.rotate(img, angle)\n",
    "            \n",
    "        if (len(images) > 1):\n",
    "            axs[i].imshow(img)\n",
    "            axs[i].set_title(f\"Corrected Angle: {angle:.2f} deg\")\n",
    "            axs[i].axis('off')\n",
    "        else:\n",
    "            axs.imshow(img)\n",
    "            axs.set_title(f\"Corrected Angle: {angle:.2f} deg\")\n",
    "            axs.axis('off')\n",
    "            \n",
    "    plt.show()\n",
    "\n",
    "# Visualize some images from the DataLoader\n",
    "for images, labels in data_loader:\n",
    "    show_images(images, labels)\n",
    "    break  # Show one batch only"
   ]
  }
 ],
 "metadata": {
  "kernelspec": {
   "display_name": "torch_env [~/.conda/envs/torch_env/]",
   "language": "python",
   "name": "conda_torch_env"
  },
  "language_info": {
   "codemirror_mode": {
    "name": "ipython",
    "version": 3
   },
   "file_extension": ".py",
   "mimetype": "text/x-python",
   "name": "python",
   "nbconvert_exporter": "python",
   "pygments_lexer": "ipython3",
   "version": "3.9.16"
  }
 },
 "nbformat": 4,
 "nbformat_minor": 5
}

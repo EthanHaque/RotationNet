{
 "cells": [
  {
   "cell_type": "code",
   "execution_count": null,
   "metadata": {
    "tags": []
   },
   "outputs": [],
   "source": [
    "import pandas as pd\n",
    "import shutil\n",
    "import os\n",
    "import numpy as np\n",
    "import xml.etree.ElementTree as ET"
   ]
  },
  {
   "cell_type": "code",
   "execution_count": null,
   "metadata": {
    "tags": []
   },
   "outputs": [],
   "source": [
    "images_on_scad_path = \"/scratch/gpfs/RUSTOW/deskewing_datasets/images/jts_images/indexes/all_images_on_scad\"\n",
    "with open(images_on_scad_path, \"r\") as file:\n",
    "    images_on_scad = file.read().split(\"\\n\")\n",
    "\n",
    "images_on_scad_extension_map = {}\n",
    "for image in images_on_scad:\n",
    "    path_without_extension = image.split(\".\")[0]\n",
    "    path_without_extension = path_without_extension.replace(\"\\\\\", \"/\")\n",
    "    extension = image.split(\".\")[-1]\n",
    "    images_on_scad_extension_map[path_without_extension] = extension"
   ]
  },
  {
   "cell_type": "code",
   "execution_count": null,
   "metadata": {
    "tags": []
   },
   "outputs": [],
   "source": [
    "ground_truth_data_path = \"/scratch/gpfs/RUSTOW/deskewing_datasets/images/jts_images/skew_information/ground_truth_image_data.csv\"\n",
    "images_map = \"/scratch/gpfs/RUSTOW/deskewing_datasets/images/jts_images/small_images_flat/file_mapping\" "
   ]
  },
  {
   "cell_type": "code",
   "execution_count": null,
   "metadata": {
    "tags": []
   },
   "outputs": [],
   "source": [
    "ground_truth_df = pd.read_csv(ground_truth_data_path)\n",
    "ground_truth_df[\"normalized_path\"] = ground_truth_df[\"file_path\"].str.replace(\"\\\\\", \"/\")\n",
    "ground_truth_df[\"normalized_path\"] = ground_truth_df[\"normalized_path\"].str[3:]\n",
    "ground_truth_df[\"normalized_path\"] = ground_truth_df[\"normalized_path\"].str.replace(\".tif\", \".jpg\")"
   ]
  },
  {
   "cell_type": "code",
   "execution_count": null,
   "metadata": {
    "tags": []
   },
   "outputs": [],
   "source": [
    "images_map_df = pd.read_csv(images_map, header=None)\n",
    "images_map_df.head()\n",
    "images_map_df.columns = [\"mapping\"]\n",
    "images_map_df[\"mapping\"] = images_map_df[\"mapping\"].str.replace(\"\\\\\", \"/\")\n",
    "images_map_df[[\"source\", \"destination\"]] = images_map_df[\"mapping\"].str.split(\" -> \", expand=True)\n",
    "images_map_df = images_map_df.drop(columns=[\"mapping\"])\n",
    "\n",
    "prefix = \"/scratch/gpfs/RUSTOW/deskewing_datasets/images/jts_images/small_images/\"\n",
    "images_map_df[\"source_no_prefix\"] = images_map_df[\"source\"].str[len(prefix) :]"
   ]
  },
  {
   "cell_type": "code",
   "execution_count": null,
   "metadata": {
    "tags": []
   },
   "outputs": [],
   "source": [
    "images_map_dict = images_map_df.set_index('destination')['source'].to_dict()"
   ]
  },
  {
   "cell_type": "code",
   "execution_count": null,
   "metadata": {
    "tags": []
   },
   "outputs": [],
   "source": [
    "ground_truth_df"
   ]
  },
  {
   "cell_type": "code",
   "execution_count": null,
   "metadata": {
    "tags": []
   },
   "outputs": [],
   "source": [
    "merged_df = ground_truth_df.merge(images_map_df, left_on=\"normalized_path\", right_on=\"source_no_prefix\")\n",
    "keep = [\"file_path\", \"source\", \"destination\", \"angle\"]\n",
    "merged_df = merged_df[keep]\n",
    "rename = {\"file_path\": \"scad_path\", \"source\": \"della_source\", \"destination\": \"flat_file_location\"}\n",
    "merged_df = merged_df.rename(columns=rename)"
   ]
  },
  {
   "cell_type": "code",
   "execution_count": null,
   "metadata": {
    "tags": []
   },
   "outputs": [],
   "source": [
    "def compute_angle(x1, y1, x2, y2):\n",
    "    return -np.degrees(np.arctan2(y2-y1, x1-x2))"
   ]
  },
  {
   "cell_type": "code",
   "execution_count": null,
   "metadata": {
    "tags": []
   },
   "outputs": [],
   "source": [
    "def get_full_image_path(name):\n",
    "    return os.path.join(\"/scratch/gpfs/RUSTOW/deskewing_datasets/images/jts_images/small_images_flat/\", name)"
   ]
  },
  {
   "cell_type": "code",
   "execution_count": null,
   "metadata": {
    "tags": []
   },
   "outputs": [],
   "source": [
    "def convert_full_image_path_to_scad_path(path):\n",
    "    prefix = \"/scratch/gpfs/RUSTOW/deskewing_datasets/images/jts_images/small_images/\"\n",
    "    path = path[len(prefix):]\n",
    "    path = path.split(\".\")[0]\n",
    "    path = path + \".\" + images_on_scad_extension_map[path]\n",
    "    path = \"Z:/\" + path\n",
    "    path = path.replace(\"/\", \"\\\\\")\n",
    "    return path"
   ]
  },
  {
   "cell_type": "code",
   "execution_count": null,
   "metadata": {
    "tags": []
   },
   "outputs": [],
   "source": [
    "def parse_xml_and_calculate_angles(file_path):\n",
    "    tree = ET.parse(file_path)\n",
    "    root = tree.getroot()\n",
    "\n",
    "    lines_data = []\n",
    "    for image in root.iter('image'):\n",
    "        image_name = image.get(\"name\")\n",
    "        for polyline in image.findall('polyline'):\n",
    "            points_data = polyline.get('points').split(';')\n",
    "            if len(points_data) == 2:\n",
    "                x1, y1 = map(float, points_data[0].split(','))\n",
    "                x2, y2 = map(float, points_data[1].split(','))\n",
    "                if x1 > x2:\n",
    "                    angle = compute_angle(x1, y1, x2, y2)\n",
    "                    destination = get_full_image_path(image_name)\n",
    "                    source = images_map_dict[destination]\n",
    "                    scad_file_path = convert_full_image_path_to_scad_path(source)\n",
    "                    annotations = {\n",
    "                        \"scad_path\": scad_file_path,\n",
    "                        \"della_source\": source,\n",
    "                        \"flat_file_location\": destination,\n",
    "                        \"angle\": angle,\n",
    "                    }\n",
    "                    lines_data.append(annotations)\n",
    "\n",
    "    return lines_data"
   ]
  },
  {
   "cell_type": "code",
   "execution_count": null,
   "metadata": {},
   "outputs": [],
   "source": [
    "files = [\n",
    "    \"/scratch/gpfs/RUSTOW/deskewing_datasets/images/jts_images/skew_information/1\",\n",
    "    \"/scratch/gpfs/RUSTOW/deskewing_datasets/images/jts_images/skew_information/2\",\n",
    "    \"/scratch/gpfs/RUSTOW/deskewing_datasets/images/jts_images/skew_information/3\",\n",
    "]\n",
    "xml_annotations = []\n",
    "for file in files:\n",
    "    annotations = parse_xml_and_calculate_angles(file)\n",
    "    xml_annotations.extend(annotations)\n",
    "\n",
    "xml_annotations_df = pd.DataFrame.from_dict(xml_annotations)\n",
    "xml_annotations_df"
   ]
  },
  {
   "cell_type": "code",
   "execution_count": null,
   "metadata": {
    "tags": []
   },
   "outputs": [],
   "source": [
    "merged_df = pd.concat([merged_df, xml_annotations_df], ignore_index=True)\n",
    "merged_df"
   ]
  },
  {
   "cell_type": "code",
   "execution_count": null,
   "metadata": {},
   "outputs": [],
   "source": [
    "merged_df"
   ]
  },
  {
   "cell_type": "code",
   "execution_count": null,
   "metadata": {
    "tags": []
   },
   "outputs": [],
   "source": [
    "merged_df.to_csv(\"/scratch/gpfs/RUSTOW/deskewing_datasets/images/jts_images/skew_information/small_images_flat_image_annotations.csv\", index=False)"
   ]
  },
  {
   "cell_type": "code",
   "execution_count": null,
   "metadata": {
    "tags": []
   },
   "outputs": [],
   "source": [
    "destination_folder = \"/scratch/gpfs/RUSTOW/deskewing_datasets/images/jts_images/small_images_flat_processed\"\n",
    "count = 0\n",
    "for image_source in merged_df[\"flat_file_location\"]:\n",
    "    image_name = os.path.basename(image_source)\n",
    "    image_destination_path = os.path.join(destination_folder, image_name)\n",
    "    if os.path.exists(image_source):\n",
    "        shutil.move(image_source, image_destination_path)\n",
    "        count += 1\n",
    "\n",
    "print(f\"moved {count} images\")"
   ]
  },
  {
   "cell_type": "code",
   "execution_count": null,
   "metadata": {
    "tags": []
   },
   "outputs": [],
   "source": [
    "from SkewNet.utils.image_utils import rotate_image\n",
    "import cv2\n",
    "import matplotlib.pyplot as plt\n",
    "\n",
    "non_zero_angles = merged_df[merged_df[\"angle\"] != 0]\n",
    "non_zero_angles = non_zero_angles.reset_index(drop=True)\n",
    "i = np.random.randint(0, len(non_zero_angles))\n",
    "image_path = non_zero_angles[\"flat_file_location\"][i]\n",
    "image_path = image_path.replace(\"small_images_flat\", \"small_images_flat_processed\")\n",
    "print(image_path)\n",
    "image = cv2.imread(image_path)\n",
    "image = cv2.cvtColor(image, cv2.COLOR_BGR2RGB)\n",
    "angle = non_zero_angles[\"angle\"][i]\n",
    "radians = np.radians(angle)\n",
    "image = rotate_image(image, radians)\n",
    "plt.imshow(image)\n",
    "plt.show()"
   ]
  }
 ],
 "metadata": {
  "kernelspec": {
   "display_name": "Python 3 (ipykernel)",
   "language": "python",
   "name": "python3"
  },
  "language_info": {
   "codemirror_mode": {
    "name": "ipython",
    "version": 3
   },
   "file_extension": ".py",
   "mimetype": "text/x-python",
   "name": "python",
   "nbconvert_exporter": "python",
   "pygments_lexer": "ipython3",
   "version": "3.9.18"
  }
 },
 "nbformat": 4,
 "nbformat_minor": 4
}
